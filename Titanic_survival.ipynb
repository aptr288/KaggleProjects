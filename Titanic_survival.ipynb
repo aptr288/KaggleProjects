{
  "nbformat": 4,
  "nbformat_minor": 0,
  "metadata": {
    "colab": {
      "name": "Titanic survival.ipynb",
      "version": "0.3.2",
      "provenance": [],
      "collapsed_sections": [],
      "include_colab_link": true
    },
    "kernelspec": {
      "display_name": "Python 3",
      "language": "python",
      "name": "python3"
    }
  },
  "cells": [
    {
      "cell_type": "markdown",
      "metadata": {
        "id": "view-in-github",
        "colab_type": "text"
      },
      "source": [
        "<a href=\"https://colab.research.google.com/github/aptr288/Kaggle_Projects/blob/master/Titanic_survival.ipynb\" target=\"_parent\"><img src=\"https://colab.research.google.com/assets/colab-badge.svg\" alt=\"Open In Colab\"/></a>"
      ]
    },
    {
      "cell_type": "markdown",
      "metadata": {
        "id": "okqx4mNYM66o",
        "colab_type": "text"
      },
      "source": [
        "# Acessing Data"
      ]
    },
    {
      "cell_type": "code",
      "metadata": {
        "id": "xDHeCfl_M66q",
        "colab_type": "code",
        "colab": {}
      },
      "source": [
        "#Importing all dependencies \n",
        "import pandas as pd\n",
        "import numpy as np\n",
        "import matplotlib.pyplot as plt\n",
        "from sklearn import tree\n",
        "from sklearn import  svm,datasets,  tree, preprocessing, metrics #,cross_validation\n",
        "from sklearn.preprocessing import MinMaxScaler\n",
        "from sklearn.linear_model import ElasticNet, Lasso,  BayesianRidge, LassoLarsIC, LinearRegression, LogisticRegression\n",
        "from sklearn.ensemble import RandomForestClassifier, GradientBoostingClassifier\n",
        "from sklearn.neighbors import KNeighborsClassifier\n",
        "import tensorflow as tf\n",
        "import seaborn as sns\n",
        "import xgboost as xgb\n",
        "from xgboost import XGBClassifier\n",
        "from xgboost import plot_importance\n",
        "from matplotlib import pyplot"
      ],
      "execution_count": 0,
      "outputs": []
    },
    {
      "cell_type": "markdown",
      "metadata": {
        "id": "bkKIDJVoYltg",
        "colab_type": "text"
      },
      "source": [
        "Loading the data and previewing the train file"
      ]
    },
    {
      "cell_type": "code",
      "metadata": {
        "id": "jOaY7LSdM66x",
        "colab_type": "code",
        "outputId": "76405678-9f66-45cd-8ac6-1a412d6990f4",
        "colab": {
          "base_uri": "https://localhost:8080/",
          "height": 352
        }
      },
      "source": [
        "Train = pd.read_csv('train.csv')\n",
        "Test = pd.read_csv('test.csv')\n",
        "Train.head(10)"
      ],
      "execution_count": 8,
      "outputs": [
        {
          "output_type": "execute_result",
          "data": {
            "text/html": [
              "<div>\n",
              "<style scoped>\n",
              "    .dataframe tbody tr th:only-of-type {\n",
              "        vertical-align: middle;\n",
              "    }\n",
              "\n",
              "    .dataframe tbody tr th {\n",
              "        vertical-align: top;\n",
              "    }\n",
              "\n",
              "    .dataframe thead th {\n",
              "        text-align: right;\n",
              "    }\n",
              "</style>\n",
              "<table border=\"1\" class=\"dataframe\">\n",
              "  <thead>\n",
              "    <tr style=\"text-align: right;\">\n",
              "      <th></th>\n",
              "      <th>PassengerId</th>\n",
              "      <th>Survived</th>\n",
              "      <th>Pclass</th>\n",
              "      <th>Name</th>\n",
              "      <th>Sex</th>\n",
              "      <th>Age</th>\n",
              "      <th>SibSp</th>\n",
              "      <th>Parch</th>\n",
              "      <th>Ticket</th>\n",
              "      <th>Fare</th>\n",
              "      <th>Cabin</th>\n",
              "      <th>Embarked</th>\n",
              "    </tr>\n",
              "  </thead>\n",
              "  <tbody>\n",
              "    <tr>\n",
              "      <th>0</th>\n",
              "      <td>1</td>\n",
              "      <td>0</td>\n",
              "      <td>3</td>\n",
              "      <td>Braund, Mr. Owen Harris</td>\n",
              "      <td>male</td>\n",
              "      <td>22.0</td>\n",
              "      <td>1</td>\n",
              "      <td>0</td>\n",
              "      <td>A/5 21171</td>\n",
              "      <td>7.2500</td>\n",
              "      <td>NaN</td>\n",
              "      <td>S</td>\n",
              "    </tr>\n",
              "    <tr>\n",
              "      <th>1</th>\n",
              "      <td>2</td>\n",
              "      <td>1</td>\n",
              "      <td>1</td>\n",
              "      <td>Cumings, Mrs. John Bradley (Florence Briggs Th...</td>\n",
              "      <td>female</td>\n",
              "      <td>38.0</td>\n",
              "      <td>1</td>\n",
              "      <td>0</td>\n",
              "      <td>PC 17599</td>\n",
              "      <td>71.2833</td>\n",
              "      <td>C85</td>\n",
              "      <td>C</td>\n",
              "    </tr>\n",
              "    <tr>\n",
              "      <th>2</th>\n",
              "      <td>3</td>\n",
              "      <td>1</td>\n",
              "      <td>3</td>\n",
              "      <td>Heikkinen, Miss. Laina</td>\n",
              "      <td>female</td>\n",
              "      <td>26.0</td>\n",
              "      <td>0</td>\n",
              "      <td>0</td>\n",
              "      <td>STON/O2. 3101282</td>\n",
              "      <td>7.9250</td>\n",
              "      <td>NaN</td>\n",
              "      <td>S</td>\n",
              "    </tr>\n",
              "    <tr>\n",
              "      <th>3</th>\n",
              "      <td>4</td>\n",
              "      <td>1</td>\n",
              "      <td>1</td>\n",
              "      <td>Futrelle, Mrs. Jacques Heath (Lily May Peel)</td>\n",
              "      <td>female</td>\n",
              "      <td>35.0</td>\n",
              "      <td>1</td>\n",
              "      <td>0</td>\n",
              "      <td>113803</td>\n",
              "      <td>53.1000</td>\n",
              "      <td>C123</td>\n",
              "      <td>S</td>\n",
              "    </tr>\n",
              "    <tr>\n",
              "      <th>4</th>\n",
              "      <td>5</td>\n",
              "      <td>0</td>\n",
              "      <td>3</td>\n",
              "      <td>Allen, Mr. William Henry</td>\n",
              "      <td>male</td>\n",
              "      <td>35.0</td>\n",
              "      <td>0</td>\n",
              "      <td>0</td>\n",
              "      <td>373450</td>\n",
              "      <td>8.0500</td>\n",
              "      <td>NaN</td>\n",
              "      <td>S</td>\n",
              "    </tr>\n",
              "    <tr>\n",
              "      <th>5</th>\n",
              "      <td>6</td>\n",
              "      <td>0</td>\n",
              "      <td>3</td>\n",
              "      <td>Moran, Mr. James</td>\n",
              "      <td>male</td>\n",
              "      <td>NaN</td>\n",
              "      <td>0</td>\n",
              "      <td>0</td>\n",
              "      <td>330877</td>\n",
              "      <td>8.4583</td>\n",
              "      <td>NaN</td>\n",
              "      <td>Q</td>\n",
              "    </tr>\n",
              "    <tr>\n",
              "      <th>6</th>\n",
              "      <td>7</td>\n",
              "      <td>0</td>\n",
              "      <td>1</td>\n",
              "      <td>McCarthy, Mr. Timothy J</td>\n",
              "      <td>male</td>\n",
              "      <td>54.0</td>\n",
              "      <td>0</td>\n",
              "      <td>0</td>\n",
              "      <td>17463</td>\n",
              "      <td>51.8625</td>\n",
              "      <td>E46</td>\n",
              "      <td>S</td>\n",
              "    </tr>\n",
              "    <tr>\n",
              "      <th>7</th>\n",
              "      <td>8</td>\n",
              "      <td>0</td>\n",
              "      <td>3</td>\n",
              "      <td>Palsson, Master. Gosta Leonard</td>\n",
              "      <td>male</td>\n",
              "      <td>2.0</td>\n",
              "      <td>3</td>\n",
              "      <td>1</td>\n",
              "      <td>349909</td>\n",
              "      <td>21.0750</td>\n",
              "      <td>NaN</td>\n",
              "      <td>S</td>\n",
              "    </tr>\n",
              "    <tr>\n",
              "      <th>8</th>\n",
              "      <td>9</td>\n",
              "      <td>1</td>\n",
              "      <td>3</td>\n",
              "      <td>Johnson, Mrs. Oscar W (Elisabeth Vilhelmina Berg)</td>\n",
              "      <td>female</td>\n",
              "      <td>27.0</td>\n",
              "      <td>0</td>\n",
              "      <td>2</td>\n",
              "      <td>347742</td>\n",
              "      <td>11.1333</td>\n",
              "      <td>NaN</td>\n",
              "      <td>S</td>\n",
              "    </tr>\n",
              "    <tr>\n",
              "      <th>9</th>\n",
              "      <td>10</td>\n",
              "      <td>1</td>\n",
              "      <td>2</td>\n",
              "      <td>Nasser, Mrs. Nicholas (Adele Achem)</td>\n",
              "      <td>female</td>\n",
              "      <td>14.0</td>\n",
              "      <td>1</td>\n",
              "      <td>0</td>\n",
              "      <td>237736</td>\n",
              "      <td>30.0708</td>\n",
              "      <td>NaN</td>\n",
              "      <td>C</td>\n",
              "    </tr>\n",
              "  </tbody>\n",
              "</table>\n",
              "</div>"
            ],
            "text/plain": [
              "   PassengerId  Survived  Pclass  ...     Fare Cabin  Embarked\n",
              "0            1         0       3  ...   7.2500   NaN         S\n",
              "1            2         1       1  ...  71.2833   C85         C\n",
              "2            3         1       3  ...   7.9250   NaN         S\n",
              "3            4         1       1  ...  53.1000  C123         S\n",
              "4            5         0       3  ...   8.0500   NaN         S\n",
              "5            6         0       3  ...   8.4583   NaN         Q\n",
              "6            7         0       1  ...  51.8625   E46         S\n",
              "7            8         0       3  ...  21.0750   NaN         S\n",
              "8            9         1       3  ...  11.1333   NaN         S\n",
              "9           10         1       2  ...  30.0708   NaN         C\n",
              "\n",
              "[10 rows x 12 columns]"
            ]
          },
          "metadata": {
            "tags": []
          },
          "execution_count": 8
        }
      ]
    },
    {
      "cell_type": "markdown",
      "metadata": {
        "id": "PUNRePDvM66-",
        "colab_type": "text"
      },
      "source": [
        "Feature datatypes and info"
      ]
    },
    {
      "cell_type": "code",
      "metadata": {
        "id": "31MADeRjM66_",
        "colab_type": "code",
        "outputId": "0b9d3712-bf22-4150-c612-189c6ca3140b",
        "colab": {
          "base_uri": "https://localhost:8080/",
          "height": 319
        }
      },
      "source": [
        "Train.info()"
      ],
      "execution_count": 3,
      "outputs": [
        {
          "output_type": "stream",
          "text": [
            "<class 'pandas.core.frame.DataFrame'>\n",
            "RangeIndex: 891 entries, 0 to 890\n",
            "Data columns (total 12 columns):\n",
            "PassengerId    891 non-null int64\n",
            "Survived       891 non-null int64\n",
            "Pclass         891 non-null int64\n",
            "Name           891 non-null object\n",
            "Sex            891 non-null object\n",
            "Age            714 non-null float64\n",
            "SibSp          891 non-null int64\n",
            "Parch          891 non-null int64\n",
            "Ticket         891 non-null object\n",
            "Fare           891 non-null float64\n",
            "Cabin          204 non-null object\n",
            "Embarked       889 non-null object\n",
            "dtypes: float64(2), int64(5), object(5)\n",
            "memory usage: 83.6+ KB\n"
          ],
          "name": "stdout"
        }
      ]
    },
    {
      "cell_type": "markdown",
      "metadata": {
        "id": "d_1WJl4sbbKm",
        "colab_type": "text"
      },
      "source": [
        "## Stats and Data Visulaization"
      ]
    },
    {
      "cell_type": "markdown",
      "metadata": {
        "id": "pU-vJ92zbmXu",
        "colab_type": "text"
      },
      "source": [
        "To better understand the data distribution and other properties "
      ]
    },
    {
      "cell_type": "code",
      "metadata": {
        "id": "hZOm0V5ia3Lw",
        "colab_type": "code",
        "outputId": "decab30b-62a7-4647-abd2-9569ef3f3d92",
        "colab": {
          "base_uri": "https://localhost:8080/",
          "height": 898
        }
      },
      "source": [
        "\n",
        "#Checking for the features which have null values \n",
        "print('Train columns with null values:\\n', Train.isnull().sum())\n",
        "print(\"-\"*10)\n",
        "\n",
        "print('Test/Validation columns with null values:\\n', Test.isnull().sum())\n",
        "print(\"-\"*10)\n",
        "\n",
        "Train.describe(include = 'all')"
      ],
      "execution_count": 5,
      "outputs": [
        {
          "output_type": "stream",
          "text": [
            "Train columns with null values:\n",
            " PassengerId      0\n",
            "Survived         0\n",
            "Pclass           0\n",
            "Name             0\n",
            "Sex              0\n",
            "Age            177\n",
            "SibSp            0\n",
            "Parch            0\n",
            "Ticket           0\n",
            "Fare             0\n",
            "Cabin          687\n",
            "Embarked         2\n",
            "dtype: int64\n",
            "----------\n",
            "Test/Validation columns with null values:\n",
            " PassengerId      0\n",
            "Pclass           0\n",
            "Name             0\n",
            "Sex              0\n",
            "Age             86\n",
            "SibSp            0\n",
            "Parch            0\n",
            "Ticket           0\n",
            "Fare             1\n",
            "Cabin          327\n",
            "Embarked         0\n",
            "dtype: int64\n",
            "----------\n"
          ],
          "name": "stdout"
        },
        {
          "output_type": "execute_result",
          "data": {
            "text/html": [
              "<div>\n",
              "<style scoped>\n",
              "    .dataframe tbody tr th:only-of-type {\n",
              "        vertical-align: middle;\n",
              "    }\n",
              "\n",
              "    .dataframe tbody tr th {\n",
              "        vertical-align: top;\n",
              "    }\n",
              "\n",
              "    .dataframe thead th {\n",
              "        text-align: right;\n",
              "    }\n",
              "</style>\n",
              "<table border=\"1\" class=\"dataframe\">\n",
              "  <thead>\n",
              "    <tr style=\"text-align: right;\">\n",
              "      <th></th>\n",
              "      <th>PassengerId</th>\n",
              "      <th>Survived</th>\n",
              "      <th>Pclass</th>\n",
              "      <th>Name</th>\n",
              "      <th>Sex</th>\n",
              "      <th>Age</th>\n",
              "      <th>SibSp</th>\n",
              "      <th>Parch</th>\n",
              "      <th>Ticket</th>\n",
              "      <th>Fare</th>\n",
              "      <th>Cabin</th>\n",
              "      <th>Embarked</th>\n",
              "    </tr>\n",
              "  </thead>\n",
              "  <tbody>\n",
              "    <tr>\n",
              "      <th>count</th>\n",
              "      <td>891.000000</td>\n",
              "      <td>891.000000</td>\n",
              "      <td>891.000000</td>\n",
              "      <td>891</td>\n",
              "      <td>891</td>\n",
              "      <td>714.000000</td>\n",
              "      <td>891.000000</td>\n",
              "      <td>891.000000</td>\n",
              "      <td>891</td>\n",
              "      <td>891.000000</td>\n",
              "      <td>204</td>\n",
              "      <td>889</td>\n",
              "    </tr>\n",
              "    <tr>\n",
              "      <th>unique</th>\n",
              "      <td>NaN</td>\n",
              "      <td>NaN</td>\n",
              "      <td>NaN</td>\n",
              "      <td>891</td>\n",
              "      <td>2</td>\n",
              "      <td>NaN</td>\n",
              "      <td>NaN</td>\n",
              "      <td>NaN</td>\n",
              "      <td>681</td>\n",
              "      <td>NaN</td>\n",
              "      <td>147</td>\n",
              "      <td>3</td>\n",
              "    </tr>\n",
              "    <tr>\n",
              "      <th>top</th>\n",
              "      <td>NaN</td>\n",
              "      <td>NaN</td>\n",
              "      <td>NaN</td>\n",
              "      <td>Gale, Mr. Shadrach</td>\n",
              "      <td>male</td>\n",
              "      <td>NaN</td>\n",
              "      <td>NaN</td>\n",
              "      <td>NaN</td>\n",
              "      <td>347082</td>\n",
              "      <td>NaN</td>\n",
              "      <td>B96 B98</td>\n",
              "      <td>S</td>\n",
              "    </tr>\n",
              "    <tr>\n",
              "      <th>freq</th>\n",
              "      <td>NaN</td>\n",
              "      <td>NaN</td>\n",
              "      <td>NaN</td>\n",
              "      <td>1</td>\n",
              "      <td>577</td>\n",
              "      <td>NaN</td>\n",
              "      <td>NaN</td>\n",
              "      <td>NaN</td>\n",
              "      <td>7</td>\n",
              "      <td>NaN</td>\n",
              "      <td>4</td>\n",
              "      <td>644</td>\n",
              "    </tr>\n",
              "    <tr>\n",
              "      <th>mean</th>\n",
              "      <td>446.000000</td>\n",
              "      <td>0.383838</td>\n",
              "      <td>2.308642</td>\n",
              "      <td>NaN</td>\n",
              "      <td>NaN</td>\n",
              "      <td>29.699118</td>\n",
              "      <td>0.523008</td>\n",
              "      <td>0.381594</td>\n",
              "      <td>NaN</td>\n",
              "      <td>32.204208</td>\n",
              "      <td>NaN</td>\n",
              "      <td>NaN</td>\n",
              "    </tr>\n",
              "    <tr>\n",
              "      <th>std</th>\n",
              "      <td>257.353842</td>\n",
              "      <td>0.486592</td>\n",
              "      <td>0.836071</td>\n",
              "      <td>NaN</td>\n",
              "      <td>NaN</td>\n",
              "      <td>14.526497</td>\n",
              "      <td>1.102743</td>\n",
              "      <td>0.806057</td>\n",
              "      <td>NaN</td>\n",
              "      <td>49.693429</td>\n",
              "      <td>NaN</td>\n",
              "      <td>NaN</td>\n",
              "    </tr>\n",
              "    <tr>\n",
              "      <th>min</th>\n",
              "      <td>1.000000</td>\n",
              "      <td>0.000000</td>\n",
              "      <td>1.000000</td>\n",
              "      <td>NaN</td>\n",
              "      <td>NaN</td>\n",
              "      <td>0.420000</td>\n",
              "      <td>0.000000</td>\n",
              "      <td>0.000000</td>\n",
              "      <td>NaN</td>\n",
              "      <td>0.000000</td>\n",
              "      <td>NaN</td>\n",
              "      <td>NaN</td>\n",
              "    </tr>\n",
              "    <tr>\n",
              "      <th>25%</th>\n",
              "      <td>223.500000</td>\n",
              "      <td>0.000000</td>\n",
              "      <td>2.000000</td>\n",
              "      <td>NaN</td>\n",
              "      <td>NaN</td>\n",
              "      <td>20.125000</td>\n",
              "      <td>0.000000</td>\n",
              "      <td>0.000000</td>\n",
              "      <td>NaN</td>\n",
              "      <td>7.910400</td>\n",
              "      <td>NaN</td>\n",
              "      <td>NaN</td>\n",
              "    </tr>\n",
              "    <tr>\n",
              "      <th>50%</th>\n",
              "      <td>446.000000</td>\n",
              "      <td>0.000000</td>\n",
              "      <td>3.000000</td>\n",
              "      <td>NaN</td>\n",
              "      <td>NaN</td>\n",
              "      <td>28.000000</td>\n",
              "      <td>0.000000</td>\n",
              "      <td>0.000000</td>\n",
              "      <td>NaN</td>\n",
              "      <td>14.454200</td>\n",
              "      <td>NaN</td>\n",
              "      <td>NaN</td>\n",
              "    </tr>\n",
              "    <tr>\n",
              "      <th>75%</th>\n",
              "      <td>668.500000</td>\n",
              "      <td>1.000000</td>\n",
              "      <td>3.000000</td>\n",
              "      <td>NaN</td>\n",
              "      <td>NaN</td>\n",
              "      <td>38.000000</td>\n",
              "      <td>1.000000</td>\n",
              "      <td>0.000000</td>\n",
              "      <td>NaN</td>\n",
              "      <td>31.000000</td>\n",
              "      <td>NaN</td>\n",
              "      <td>NaN</td>\n",
              "    </tr>\n",
              "    <tr>\n",
              "      <th>max</th>\n",
              "      <td>891.000000</td>\n",
              "      <td>1.000000</td>\n",
              "      <td>3.000000</td>\n",
              "      <td>NaN</td>\n",
              "      <td>NaN</td>\n",
              "      <td>80.000000</td>\n",
              "      <td>8.000000</td>\n",
              "      <td>6.000000</td>\n",
              "      <td>NaN</td>\n",
              "      <td>512.329200</td>\n",
              "      <td>NaN</td>\n",
              "      <td>NaN</td>\n",
              "    </tr>\n",
              "  </tbody>\n",
              "</table>\n",
              "</div>"
            ],
            "text/plain": [
              "        PassengerId    Survived      Pclass  ...        Fare    Cabin  Embarked\n",
              "count    891.000000  891.000000  891.000000  ...  891.000000      204       889\n",
              "unique          NaN         NaN         NaN  ...         NaN      147         3\n",
              "top             NaN         NaN         NaN  ...         NaN  B96 B98         S\n",
              "freq            NaN         NaN         NaN  ...         NaN        4       644\n",
              "mean     446.000000    0.383838    2.308642  ...   32.204208      NaN       NaN\n",
              "std      257.353842    0.486592    0.836071  ...   49.693429      NaN       NaN\n",
              "min        1.000000    0.000000    1.000000  ...    0.000000      NaN       NaN\n",
              "25%      223.500000    0.000000    2.000000  ...    7.910400      NaN       NaN\n",
              "50%      446.000000    0.000000    3.000000  ...   14.454200      NaN       NaN\n",
              "75%      668.500000    1.000000    3.000000  ...   31.000000      NaN       NaN\n",
              "max      891.000000    1.000000    3.000000  ...  512.329200      NaN       NaN\n",
              "\n",
              "[11 rows x 12 columns]"
            ]
          },
          "metadata": {
            "tags": []
          },
          "execution_count": 5
        }
      ]
    },
    {
      "cell_type": "code",
      "metadata": {
        "id": "TJUQFdSretG3",
        "colab_type": "code",
        "outputId": "c8a979a8-03b7-4268-f6ff-419b69d75eef",
        "colab": {
          "base_uri": "https://localhost:8080/",
          "height": 1000
        }
      },
      "source": [
        "#pair plots of entire dataset\n",
        "pp = sns.pairplot(Train, hue = 'Survived', palette = 'husl', size=1.2, diag_kind = 'kde' , diag_kws=dict(shade=True), plot_kws=dict(s=10) )\n",
        "pp.set(xticklabels=[])\n",
        "# Seaborn visualization library\n",
        "# colormap = plt.cm.RdBu\n",
        "# plt.figure(figsize=(14,12))\n",
        "# plt.title('Pearson Correlation of Features', y=1.05, size=15)\n",
        "# sns.heatmap(Train.astype(float).corr(),linewidths=0.1,vmax=1.0, \n",
        "#             square=True, cmap=colormap, linecolor='white', annot=True)"
      ],
      "execution_count": 17,
      "outputs": [
        {
          "output_type": "stream",
          "text": [
            "/usr/local/lib/python3.6/dist-packages/seaborn/axisgrid.py:2065: UserWarning: The `size` parameter has been renamed to `height`; pleaes update your code.\n",
            "  warnings.warn(msg, UserWarning)\n",
            "/usr/local/lib/python3.6/dist-packages/statsmodels/nonparametric/kde.py:487: RuntimeWarning: invalid value encountered in true_divide\n",
            "  binned = fast_linbin(X, a, b, gridsize) / (delta * nobs)\n",
            "/usr/local/lib/python3.6/dist-packages/statsmodels/nonparametric/kdetools.py:34: RuntimeWarning: invalid value encountered in double_scalars\n",
            "  FAC1 = 2*(np.pi*bw/RANGE)**2\n"
          ],
          "name": "stderr"
        },
        {
          "output_type": "execute_result",
          "data": {
            "text/plain": [
              "<seaborn.axisgrid.PairGrid at 0x7fc94cb3bb70>"
            ]
          },
          "metadata": {
            "tags": []
          },
          "execution_count": 17
        },
        {
          "output_type": "display_data",
          "data": {
            "image/png": "[encoded data removed]",
            "text/plain": [
              "<Figure size 1002.27x950.4 with 132 Axes>"
            ]
          },
          "metadata": {
            "tags": []
          }
        }
      ]
    },
    {
      "cell_type": "markdown",
      "metadata": {
        "id": "oCA4VC_RDgR5",
        "colab_type": "text"
      },
      "source": [
        "**pclass**: A proxy for socio-economic status (SES)\n",
        "* 1st = Upper\n",
        "* 2nd = Middle\n",
        "* 3rd = Lower\n",
        "\n",
        "**age**: Age is fractional if less than 1. If the age is estimated, is it in the form of xx.5\n",
        "\n",
        "**sibsp**: The dataset defines family relations in this way... **Sib**ling+**Sp**ouse = **SibSp**\n",
        "* **Sibling** = brother, sister, stepbrother, stepsister\n",
        "* **Spouse** = husband, wife (mistresses and fiancés were ignored)\n",
        "\n",
        "**parch**: The dataset defines family relations in this way...  **Par**ent + **Ch**ild  = **ParCh**\n",
        "* **Parent** = mother, father\n",
        "* **Child** = daughter, son, stepdaughter, stepson\n",
        "Some children travelled only with a nanny, therefore parch=0 for them."
      ]
    },
    {
      "cell_type": "markdown",
      "metadata": {
        "id": "2XEYG_mMM67I",
        "colab_type": "text"
      },
      "source": [
        "# Feature Extraction and Feature Engineering "
      ]
    },
    {
      "cell_type": "markdown",
      "metadata": {
        "id": "Qzfbqm30M67J",
        "colab_type": "text"
      },
      "source": [
        "We can extract Titles of each passenger name so that their status and chance of survival can be better exposed.\n",
        "And also FamilySize and IsAlone features are added from SinSp and Parch. "
      ]
    },
    {
      "cell_type": "code",
      "metadata": {
        "id": "1WhcWqyVM67K",
        "colab_type": "code",
        "outputId": "563a0a73-12a8-419a-fee4-81a6cbb5029f",
        "colab": {
          "base_uri": "https://localhost:8080/",
          "height": 106
        }
      },
      "source": [
        "data_cleaner = [Train, Test]\n",
        "for dataset in data_cleaner:   \n",
        "    #here we are trying to get family size of the person so that the more people he have around the less probability for him to escape flexibly\n",
        "    dataset['FamilySize'] = dataset['SibSp'] + dataset['Parch'] + 1\n",
        "\n",
        "    dataset['IsAlone'] = 1 #initialize to yes/1 is alone\n",
        "    dataset['IsAlone'].loc[dataset['FamilySize'] > 1] = 0 \n",
        "    dataset['Title'] = dataset['Name'].str.split(\", \", expand=True)[1].str.split(\".\", expand=True)[0]"
      ],
      "execution_count": 6,
      "outputs": [
        {
          "output_type": "stream",
          "text": [
            "/usr/local/lib/python3.6/dist-packages/pandas/core/indexing.py:190: SettingWithCopyWarning: \n",
            "A value is trying to be set on a copy of a slice from a DataFrame\n",
            "\n",
            "See the caveats in the documentation: http://pandas.pydata.org/pandas-docs/stable/indexing.html#indexing-view-versus-copy\n",
            "  self._setitem_with_indexer(indexer, value)\n"
          ],
          "name": "stderr"
        }
      ]
    },
    {
      "cell_type": "code",
      "metadata": {
        "id": "NhFbokiqM67N",
        "colab_type": "code",
        "outputId": "93a8de11-ab17-465d-eae7-05710b100c4f",
        "colab": {
          "base_uri": "https://localhost:8080/",
          "height": 337
        }
      },
      "source": [
        "#grouping Titles appropriately \n",
        "Train['Title'].value_counts()"
      ],
      "execution_count": 7,
      "outputs": [
        {
          "output_type": "execute_result",
          "data": {
            "text/plain": [
              "Mr              517\n",
              "Miss            182\n",
              "Mrs             125\n",
              "Master           40\n",
              "Dr                7\n",
              "Rev               6\n",
              "Major             2\n",
              "Mlle              2\n",
              "Col               2\n",
              "Mme               1\n",
              "the Countess      1\n",
              "Lady              1\n",
              "Sir               1\n",
              "Ms                1\n",
              "Capt              1\n",
              "Jonkheer          1\n",
              "Don               1\n",
              "Name: Title, dtype: int64"
            ]
          },
          "metadata": {
            "tags": []
          },
          "execution_count": 7
        }
      ]
    },
    {
      "cell_type": "code",
      "metadata": {
        "id": "pIr61-VeM67R",
        "colab_type": "code",
        "outputId": "4d68d169-657d-4ff9-aa39-a8c25f8deed5",
        "colab": {
          "base_uri": "https://localhost:8080/",
          "height": 251
        }
      },
      "source": [
        "Title_Dictionary = {\n",
        "        \"Capt\":       \"Officer\",\n",
        "        \"Col\":        \"Officer\",\n",
        "        \"Major\":      \"Officer\",\n",
        "        \"Dr\":         \"Officer\",\n",
        "        \"Rev\":        \"Officer\",\n",
        "        \"Jonkheer\":   \"Royalty\",\n",
        "        \"Don\":        \"Royalty\",\n",
        "        \"Sir\" :       \"Royalty\",\n",
        "        \"the Countess\":\"Royalty\",\n",
        "        \"Dona\":       \"Royalty\",\n",
        "        \"Lady\" :      \"Royalty\",\n",
        "        \"Mme\":        \"Mrs\",\n",
        "        \"Ms\":         \"Mrs\",\n",
        "        \"Mrs\" :       \"Mrs\",\n",
        "        \"Mlle\":       \"Miss\",\n",
        "        \"Miss\" :      \"Miss\",\n",
        "        \"Mr\" :        \"Mr\",\n",
        "        \"Master\" :    \"Master\"\n",
        "                   }\n",
        "Train['Title'] = Train.Title.map(Title_Dictionary)\n",
        "Test['Title'] = Test.Title.map(Title_Dictionary)\n",
        "Train.head()"
      ],
      "execution_count": 8,
      "outputs": [
        {
          "output_type": "execute_result",
          "data": {
            "text/html": [
              "<div>\n",
              "<style scoped>\n",
              "    .dataframe tbody tr th:only-of-type {\n",
              "        vertical-align: middle;\n",
              "    }\n",
              "\n",
              "    .dataframe tbody tr th {\n",
              "        vertical-align: top;\n",
              "    }\n",
              "\n",
              "    .dataframe thead th {\n",
              "        text-align: right;\n",
              "    }\n",
              "</style>\n",
              "<table border=\"1\" class=\"dataframe\">\n",
              "  <thead>\n",
              "    <tr style=\"text-align: right;\">\n",
              "      <th></th>\n",
              "      <th>PassengerId</th>\n",
              "      <th>Survived</th>\n",
              "      <th>Pclass</th>\n",
              "      <th>Name</th>\n",
              "      <th>Sex</th>\n",
              "      <th>Age</th>\n",
              "      <th>SibSp</th>\n",
              "      <th>Parch</th>\n",
              "      <th>Ticket</th>\n",
              "      <th>Fare</th>\n",
              "      <th>Cabin</th>\n",
              "      <th>Embarked</th>\n",
              "      <th>FamilySize</th>\n",
              "      <th>IsAlone</th>\n",
              "      <th>Title</th>\n",
              "    </tr>\n",
              "  </thead>\n",
              "  <tbody>\n",
              "    <tr>\n",
              "      <th>0</th>\n",
              "      <td>1</td>\n",
              "      <td>0</td>\n",
              "      <td>3</td>\n",
              "      <td>Braund, Mr. Owen Harris</td>\n",
              "      <td>male</td>\n",
              "      <td>22.0</td>\n",
              "      <td>1</td>\n",
              "      <td>0</td>\n",
              "      <td>A/5 21171</td>\n",
              "      <td>7.2500</td>\n",
              "      <td>NaN</td>\n",
              "      <td>S</td>\n",
              "      <td>2</td>\n",
              "      <td>0</td>\n",
              "      <td>Mr</td>\n",
              "    </tr>\n",
              "    <tr>\n",
              "      <th>1</th>\n",
              "      <td>2</td>\n",
              "      <td>1</td>\n",
              "      <td>1</td>\n",
              "      <td>Cumings, Mrs. John Bradley (Florence Briggs Th...</td>\n",
              "      <td>female</td>\n",
              "      <td>38.0</td>\n",
              "      <td>1</td>\n",
              "      <td>0</td>\n",
              "      <td>PC 17599</td>\n",
              "      <td>71.2833</td>\n",
              "      <td>C85</td>\n",
              "      <td>C</td>\n",
              "      <td>2</td>\n",
              "      <td>0</td>\n",
              "      <td>Mrs</td>\n",
              "    </tr>\n",
              "    <tr>\n",
              "      <th>2</th>\n",
              "      <td>3</td>\n",
              "      <td>1</td>\n",
              "      <td>3</td>\n",
              "      <td>Heikkinen, Miss. Laina</td>\n",
              "      <td>female</td>\n",
              "      <td>26.0</td>\n",
              "      <td>0</td>\n",
              "      <td>0</td>\n",
              "      <td>STON/O2. 3101282</td>\n",
              "      <td>7.9250</td>\n",
              "      <td>NaN</td>\n",
              "      <td>S</td>\n",
              "      <td>1</td>\n",
              "      <td>1</td>\n",
              "      <td>Miss</td>\n",
              "    </tr>\n",
              "    <tr>\n",
              "      <th>3</th>\n",
              "      <td>4</td>\n",
              "      <td>1</td>\n",
              "      <td>1</td>\n",
              "      <td>Futrelle, Mrs. Jacques Heath (Lily May Peel)</td>\n",
              "      <td>female</td>\n",
              "      <td>35.0</td>\n",
              "      <td>1</td>\n",
              "      <td>0</td>\n",
              "      <td>113803</td>\n",
              "      <td>53.1000</td>\n",
              "      <td>C123</td>\n",
              "      <td>S</td>\n",
              "      <td>2</td>\n",
              "      <td>0</td>\n",
              "      <td>Mrs</td>\n",
              "    </tr>\n",
              "    <tr>\n",
              "      <th>4</th>\n",
              "      <td>5</td>\n",
              "      <td>0</td>\n",
              "      <td>3</td>\n",
              "      <td>Allen, Mr. William Henry</td>\n",
              "      <td>male</td>\n",
              "      <td>35.0</td>\n",
              "      <td>0</td>\n",
              "      <td>0</td>\n",
              "      <td>373450</td>\n",
              "      <td>8.0500</td>\n",
              "      <td>NaN</td>\n",
              "      <td>S</td>\n",
              "      <td>1</td>\n",
              "      <td>1</td>\n",
              "      <td>Mr</td>\n",
              "    </tr>\n",
              "  </tbody>\n",
              "</table>\n",
              "</div>"
            ],
            "text/plain": [
              "   PassengerId  Survived  Pclass  ... FamilySize IsAlone  Title\n",
              "0            1         0       3  ...          2       0     Mr\n",
              "1            2         1       1  ...          2       0    Mrs\n",
              "2            3         1       3  ...          1       1   Miss\n",
              "3            4         1       1  ...          2       0    Mrs\n",
              "4            5         0       3  ...          1       1     Mr\n",
              "\n",
              "[5 rows x 15 columns]"
            ]
          },
          "metadata": {
            "tags": []
          },
          "execution_count": 8
        }
      ]
    },
    {
      "cell_type": "code",
      "metadata": {
        "id": "yIw6DqjJM67V",
        "colab_type": "code",
        "outputId": "a4e995ba-dc74-4f6b-9f5f-9e124f3e3417",
        "colab": {
          "base_uri": "https://localhost:8080/",
          "height": 141
        }
      },
      "source": [
        "#Updated categories \n",
        "Train['Title'].value_counts()"
      ],
      "execution_count": 9,
      "outputs": [
        {
          "output_type": "execute_result",
          "data": {
            "text/plain": [
              "Mr         517\n",
              "Miss       184\n",
              "Mrs        127\n",
              "Master      40\n",
              "Officer     18\n",
              "Royalty      5\n",
              "Name: Title, dtype: int64"
            ]
          },
          "metadata": {
            "tags": []
          },
          "execution_count": 9
        }
      ]
    },
    {
      "cell_type": "markdown",
      "metadata": {
        "id": "gXYojIuvj0H_",
        "colab_type": "text"
      },
      "source": [
        "## Data cleaning\n"
      ]
    },
    {
      "cell_type": "code",
      "metadata": {
        "id": "_3o_EpQ4M67a",
        "colab_type": "code",
        "outputId": "fad0f6fb-720c-4982-8ccf-49a43d458c4a",
        "colab": {
          "base_uri": "https://localhost:8080/",
          "height": 195
        }
      },
      "source": [
        "# Re-checing the features for missing values \n",
        "print(len(Train))\n",
        "all_data_na = (Train.isnull().sum() / len(Train)) * 100\n",
        "all_data_na = all_data_na.drop(all_data_na[all_data_na == 0].index).sort_values(ascending=False)[:30]\n",
        "print(all_data_na)\n",
        "\n",
        "print(len(Test))\n",
        "all_data_na = (Test.isnull().sum() / len(Test)) * 100\n",
        "all_data_na = all_data_na.drop(all_data_na[all_data_na == 0].index).sort_values(ascending=False)[:30]\n",
        "print(all_data_na)"
      ],
      "execution_count": 10,
      "outputs": [
        {
          "output_type": "stream",
          "text": [
            "891\n",
            "Cabin       77.104377\n",
            "Age         19.865320\n",
            "Embarked     0.224467\n",
            "dtype: float64\n",
            "418\n",
            "Cabin    78.229665\n",
            "Age      20.574163\n",
            "Fare      0.239234\n",
            "dtype: float64\n"
          ],
          "name": "stdout"
        }
      ]
    },
    {
      "cell_type": "code",
      "metadata": {
        "id": "wF3lA27lM67g",
        "colab_type": "code",
        "colab": {}
      },
      "source": [
        "#Removing the features which doesnt impact the surviour classification\n",
        "PassengerID = Test['PassengerId']\n",
        "del Train['PassengerId']\n",
        "del Train['Cabin']\n",
        "del Train['Name']\n",
        "del Train['Ticket']\n",
        "\n",
        "del Test['PassengerId']\n",
        "del Test['Cabin']\n",
        "del Test['Name']\n",
        "del Test['Ticket']\n"
      ],
      "execution_count": 0,
      "outputs": []
    },
    {
      "cell_type": "code",
      "metadata": {
        "id": "ZhQhTZUwM67k",
        "colab_type": "code",
        "colab": {}
      },
      "source": [
        "#Imputing the missing values\n",
        "Train['Age'] = Train['Age'].fillna(Train['Age'].median())\n",
        "Train['Embarked'] = Train['Embarked'].fillna(Train['Embarked'].mode()[0])\n",
        "\n",
        "Test['Age'] = Test['Age'].fillna(Test['Age'].median())\n",
        "Test['Fare'] = Test['Fare'].fillna(Test['Fare'].mode()[0])"
      ],
      "execution_count": 0,
      "outputs": []
    },
    {
      "cell_type": "code",
      "metadata": {
        "id": "_hr60UDvM67o",
        "colab_type": "code",
        "outputId": "169cb540-bafc-4158-8e19-dd57b7984d1b",
        "colab": {
          "base_uri": "https://localhost:8080/",
          "height": 200
        }
      },
      "source": [
        "#Finally displaying the cleaned files \n",
        "Train.head()\n",
        "Test.head()"
      ],
      "execution_count": 13,
      "outputs": [
        {
          "output_type": "execute_result",
          "data": {
            "text/html": [
              "<div>\n",
              "<style scoped>\n",
              "    .dataframe tbody tr th:only-of-type {\n",
              "        vertical-align: middle;\n",
              "    }\n",
              "\n",
              "    .dataframe tbody tr th {\n",
              "        vertical-align: top;\n",
              "    }\n",
              "\n",
              "    .dataframe thead th {\n",
              "        text-align: right;\n",
              "    }\n",
              "</style>\n",
              "<table border=\"1\" class=\"dataframe\">\n",
              "  <thead>\n",
              "    <tr style=\"text-align: right;\">\n",
              "      <th></th>\n",
              "      <th>Pclass</th>\n",
              "      <th>Sex</th>\n",
              "      <th>Age</th>\n",
              "      <th>SibSp</th>\n",
              "      <th>Parch</th>\n",
              "      <th>Fare</th>\n",
              "      <th>Embarked</th>\n",
              "      <th>FamilySize</th>\n",
              "      <th>IsAlone</th>\n",
              "      <th>Title</th>\n",
              "    </tr>\n",
              "  </thead>\n",
              "  <tbody>\n",
              "    <tr>\n",
              "      <th>0</th>\n",
              "      <td>3</td>\n",
              "      <td>male</td>\n",
              "      <td>34.5</td>\n",
              "      <td>0</td>\n",
              "      <td>0</td>\n",
              "      <td>7.8292</td>\n",
              "      <td>Q</td>\n",
              "      <td>1</td>\n",
              "      <td>1</td>\n",
              "      <td>Mr</td>\n",
              "    </tr>\n",
              "    <tr>\n",
              "      <th>1</th>\n",
              "      <td>3</td>\n",
              "      <td>female</td>\n",
              "      <td>47.0</td>\n",
              "      <td>1</td>\n",
              "      <td>0</td>\n",
              "      <td>7.0000</td>\n",
              "      <td>S</td>\n",
              "      <td>2</td>\n",
              "      <td>0</td>\n",
              "      <td>Mrs</td>\n",
              "    </tr>\n",
              "    <tr>\n",
              "      <th>2</th>\n",
              "      <td>2</td>\n",
              "      <td>male</td>\n",
              "      <td>62.0</td>\n",
              "      <td>0</td>\n",
              "      <td>0</td>\n",
              "      <td>9.6875</td>\n",
              "      <td>Q</td>\n",
              "      <td>1</td>\n",
              "      <td>1</td>\n",
              "      <td>Mr</td>\n",
              "    </tr>\n",
              "    <tr>\n",
              "      <th>3</th>\n",
              "      <td>3</td>\n",
              "      <td>male</td>\n",
              "      <td>27.0</td>\n",
              "      <td>0</td>\n",
              "      <td>0</td>\n",
              "      <td>8.6625</td>\n",
              "      <td>S</td>\n",
              "      <td>1</td>\n",
              "      <td>1</td>\n",
              "      <td>Mr</td>\n",
              "    </tr>\n",
              "    <tr>\n",
              "      <th>4</th>\n",
              "      <td>3</td>\n",
              "      <td>female</td>\n",
              "      <td>22.0</td>\n",
              "      <td>1</td>\n",
              "      <td>1</td>\n",
              "      <td>12.2875</td>\n",
              "      <td>S</td>\n",
              "      <td>3</td>\n",
              "      <td>0</td>\n",
              "      <td>Mrs</td>\n",
              "    </tr>\n",
              "  </tbody>\n",
              "</table>\n",
              "</div>"
            ],
            "text/plain": [
              "   Pclass     Sex   Age  SibSp  ...  Embarked  FamilySize IsAlone  Title\n",
              "0       3    male  34.5      0  ...         Q           1       1     Mr\n",
              "1       3  female  47.0      1  ...         S           2       0    Mrs\n",
              "2       2    male  62.0      0  ...         Q           1       1     Mr\n",
              "3       3    male  27.0      0  ...         S           1       1     Mr\n",
              "4       3  female  22.0      1  ...         S           3       0    Mrs\n",
              "\n",
              "[5 rows x 10 columns]"
            ]
          },
          "metadata": {
            "tags": []
          },
          "execution_count": 13
        }
      ]
    },
    {
      "cell_type": "markdown",
      "metadata": {
        "id": "xEQrrNg6M67t",
        "colab_type": "text"
      },
      "source": [
        "# Encoding Features"
      ]
    },
    {
      "cell_type": "markdown",
      "metadata": {
        "id": "J_XlVj5bM67u",
        "colab_type": "text"
      },
      "source": [
        "We encode the catogorical features so that features like Embarked which have values like Q, S .. are converted to numericals so that the ml algos can accept them as input."
      ]
    },
    {
      "cell_type": "code",
      "metadata": {
        "id": "otrCVvRjM67w",
        "colab_type": "code",
        "colab": {}
      },
      "source": [
        "from sklearn.preprocessing import LabelEncoder\n",
        "cols = ( 'Sex', 'Embarked', 'Title')\n",
        "# process columns, apply LabelEncoder to categorical features\n",
        "for c in cols:\n",
        "    lbl = LabelEncoder() \n",
        "    lbl.fit(list(Train[c].values)) \n",
        "    Train[c] = lbl.transform(list(Train[c].values))\n",
        "\n",
        "for c in cols:\n",
        "    lbl = LabelEncoder() \n",
        "    lbl.fit(list(Test[c].values)) \n",
        "    Test[c] = lbl.transform(list(Test[c].values))"
      ],
      "execution_count": 0,
      "outputs": []
    },
    {
      "cell_type": "code",
      "metadata": {
        "id": "19XtwvdfM67z",
        "colab_type": "code",
        "outputId": "85084381-eda1-45a1-c282-e49945178f89",
        "colab": {
          "base_uri": "https://localhost:8080/",
          "height": 291
        }
      },
      "source": [
        "Train.describe()"
      ],
      "execution_count": 15,
      "outputs": [
        {
          "output_type": "execute_result",
          "data": {
            "text/html": [
              "<div>\n",
              "<style scoped>\n",
              "    .dataframe tbody tr th:only-of-type {\n",
              "        vertical-align: middle;\n",
              "    }\n",
              "\n",
              "    .dataframe tbody tr th {\n",
              "        vertical-align: top;\n",
              "    }\n",
              "\n",
              "    .dataframe thead th {\n",
              "        text-align: right;\n",
              "    }\n",
              "</style>\n",
              "<table border=\"1\" class=\"dataframe\">\n",
              "  <thead>\n",
              "    <tr style=\"text-align: right;\">\n",
              "      <th></th>\n",
              "      <th>Survived</th>\n",
              "      <th>Pclass</th>\n",
              "      <th>Sex</th>\n",
              "      <th>Age</th>\n",
              "      <th>SibSp</th>\n",
              "      <th>Parch</th>\n",
              "      <th>Fare</th>\n",
              "      <th>Embarked</th>\n",
              "      <th>FamilySize</th>\n",
              "      <th>IsAlone</th>\n",
              "      <th>Title</th>\n",
              "    </tr>\n",
              "  </thead>\n",
              "  <tbody>\n",
              "    <tr>\n",
              "      <th>count</th>\n",
              "      <td>891.000000</td>\n",
              "      <td>891.000000</td>\n",
              "      <td>891.000000</td>\n",
              "      <td>891.000000</td>\n",
              "      <td>891.000000</td>\n",
              "      <td>891.000000</td>\n",
              "      <td>891.000000</td>\n",
              "      <td>891.000000</td>\n",
              "      <td>891.000000</td>\n",
              "      <td>891.000000</td>\n",
              "      <td>891.000000</td>\n",
              "    </tr>\n",
              "    <tr>\n",
              "      <th>mean</th>\n",
              "      <td>0.383838</td>\n",
              "      <td>2.308642</td>\n",
              "      <td>0.647587</td>\n",
              "      <td>29.361582</td>\n",
              "      <td>0.523008</td>\n",
              "      <td>0.381594</td>\n",
              "      <td>32.204208</td>\n",
              "      <td>1.536476</td>\n",
              "      <td>1.904602</td>\n",
              "      <td>0.602694</td>\n",
              "      <td>1.903479</td>\n",
              "    </tr>\n",
              "    <tr>\n",
              "      <th>std</th>\n",
              "      <td>0.486592</td>\n",
              "      <td>0.836071</td>\n",
              "      <td>0.477990</td>\n",
              "      <td>13.019697</td>\n",
              "      <td>1.102743</td>\n",
              "      <td>0.806057</td>\n",
              "      <td>49.693429</td>\n",
              "      <td>0.791503</td>\n",
              "      <td>1.613459</td>\n",
              "      <td>0.489615</td>\n",
              "      <td>0.807061</td>\n",
              "    </tr>\n",
              "    <tr>\n",
              "      <th>min</th>\n",
              "      <td>0.000000</td>\n",
              "      <td>1.000000</td>\n",
              "      <td>0.000000</td>\n",
              "      <td>0.420000</td>\n",
              "      <td>0.000000</td>\n",
              "      <td>0.000000</td>\n",
              "      <td>0.000000</td>\n",
              "      <td>0.000000</td>\n",
              "      <td>1.000000</td>\n",
              "      <td>0.000000</td>\n",
              "      <td>0.000000</td>\n",
              "    </tr>\n",
              "    <tr>\n",
              "      <th>25%</th>\n",
              "      <td>0.000000</td>\n",
              "      <td>2.000000</td>\n",
              "      <td>0.000000</td>\n",
              "      <td>22.000000</td>\n",
              "      <td>0.000000</td>\n",
              "      <td>0.000000</td>\n",
              "      <td>7.910400</td>\n",
              "      <td>1.000000</td>\n",
              "      <td>1.000000</td>\n",
              "      <td>0.000000</td>\n",
              "      <td>1.000000</td>\n",
              "    </tr>\n",
              "    <tr>\n",
              "      <th>50%</th>\n",
              "      <td>0.000000</td>\n",
              "      <td>3.000000</td>\n",
              "      <td>1.000000</td>\n",
              "      <td>28.000000</td>\n",
              "      <td>0.000000</td>\n",
              "      <td>0.000000</td>\n",
              "      <td>14.454200</td>\n",
              "      <td>2.000000</td>\n",
              "      <td>1.000000</td>\n",
              "      <td>1.000000</td>\n",
              "      <td>2.000000</td>\n",
              "    </tr>\n",
              "    <tr>\n",
              "      <th>75%</th>\n",
              "      <td>1.000000</td>\n",
              "      <td>3.000000</td>\n",
              "      <td>1.000000</td>\n",
              "      <td>35.000000</td>\n",
              "      <td>1.000000</td>\n",
              "      <td>0.000000</td>\n",
              "      <td>31.000000</td>\n",
              "      <td>2.000000</td>\n",
              "      <td>2.000000</td>\n",
              "      <td>1.000000</td>\n",
              "      <td>2.000000</td>\n",
              "    </tr>\n",
              "    <tr>\n",
              "      <th>max</th>\n",
              "      <td>1.000000</td>\n",
              "      <td>3.000000</td>\n",
              "      <td>1.000000</td>\n",
              "      <td>80.000000</td>\n",
              "      <td>8.000000</td>\n",
              "      <td>6.000000</td>\n",
              "      <td>512.329200</td>\n",
              "      <td>2.000000</td>\n",
              "      <td>11.000000</td>\n",
              "      <td>1.000000</td>\n",
              "      <td>5.000000</td>\n",
              "    </tr>\n",
              "  </tbody>\n",
              "</table>\n",
              "</div>"
            ],
            "text/plain": [
              "         Survived      Pclass         Sex  ...  FamilySize     IsAlone       Title\n",
              "count  891.000000  891.000000  891.000000  ...  891.000000  891.000000  891.000000\n",
              "mean     0.383838    2.308642    0.647587  ...    1.904602    0.602694    1.903479\n",
              "std      0.486592    0.836071    0.477990  ...    1.613459    0.489615    0.807061\n",
              "min      0.000000    1.000000    0.000000  ...    1.000000    0.000000    0.000000\n",
              "25%      0.000000    2.000000    0.000000  ...    1.000000    0.000000    1.000000\n",
              "50%      0.000000    3.000000    1.000000  ...    1.000000    1.000000    2.000000\n",
              "75%      1.000000    3.000000    1.000000  ...    2.000000    1.000000    2.000000\n",
              "max      1.000000    3.000000    1.000000  ...   11.000000    1.000000    5.000000\n",
              "\n",
              "[8 rows x 11 columns]"
            ]
          },
          "metadata": {
            "tags": []
          },
          "execution_count": 15
        }
      ]
    },
    {
      "cell_type": "code",
      "metadata": {
        "id": "HRiGa6YylWjb",
        "colab_type": "code",
        "colab": {
          "base_uri": "https://localhost:8080/",
          "height": 740
        },
        "outputId": "db99c10a-2a04-4936-ca6b-a371bc34b888"
      },
      "source": [
        "colormap = plt.cm.RdBu\n",
        "plt.figure(figsize=(14,12))\n",
        "plt.title('Pearson Correlation of Features', y=1.05, size=15)\n",
        "sns.heatmap(Train.astype(float).corr(),linewidths=0.1,vmax=1.0, \n",
        "            square=True, cmap=colormap, linecolor='white', annot=True)"
      ],
      "execution_count": 19,
      "outputs": [
        {
          "output_type": "execute_result",
          "data": {
            "text/plain": [
              "<matplotlib.axes._subplots.AxesSubplot at 0x7fc9497e50b8>"
            ]
          },
          "metadata": {
            "tags": []
          },
          "execution_count": 19
        },
        {
          "output_type": "display_data",
          "data": {
            "image/png": "[encoded data removed]",
            "text/plain": [
              "<Figure size 1008x864 with 2 Axes>"
            ]
          },
          "metadata": {
            "tags": []
          }
        }
      ]
    },
    {
      "cell_type": "markdown",
      "metadata": {
        "id": "1lT8r2TTnlj0",
        "colab_type": "text"
      },
      "source": [
        "Now from the above heatmap,we can see that the features are not much correlated. The highest correlation is between SibSp and Parch i.e 0.41. So we can carry on with all features.\n",
        "\n",
        "Def-\n",
        "\n",
        "Now lets say that two features are highly or perfectly correlated, so the increase in one leads to increase in the other. This means that both the features are containing highly similar information and there is very little or no variance in information. This is known as **MultiColinearity** as both of them contains almost the same information.\n",
        "\n",
        "So do you think we should use both of them as one of them is redundant. While making or training models, we should try to eliminate redundant features as it reduces training time and many such advantages."
      ]
    },
    {
      "cell_type": "code",
      "metadata": {
        "id": "0DfjaGeNM673",
        "colab_type": "code",
        "colab": {}
      },
      "source": [
        "y =Train['Survived']\n",
        "X = Train.drop(['Survived'], axis=1)"
      ],
      "execution_count": 0,
      "outputs": []
    },
    {
      "cell_type": "code",
      "metadata": {
        "id": "renxsLnhM675",
        "colab_type": "code",
        "outputId": "a61a436e-8a7c-4000-9991-1462252e8b6b",
        "colab": {
          "base_uri": "https://localhost:8080/",
          "height": 108
        }
      },
      "source": [
        "# Normalizing the dataset to make sure all the data is in range of 0 to 1 \n",
        "scaler = MinMaxScaler(feature_range=(0, 1))\n",
        "rescaledX = scaler.fit_transform(X)\n",
        "TestX = scaler.fit_transform(Test)\n"
      ],
      "execution_count": 0,
      "outputs": [
        {
          "output_type": "stream",
          "text": [
            "/usr/local/lib/python3.6/dist-packages/sklearn/preprocessing/data.py:334: DataConversionWarning: Data with input dtype int64, float64 were all converted to float64 by MinMaxScaler.\n",
            "  return self.partial_fit(X, y)\n",
            "/usr/local/lib/python3.6/dist-packages/sklearn/preprocessing/data.py:334: DataConversionWarning: Data with input dtype int64, float64 were all converted to float64 by MinMaxScaler.\n",
            "  return self.partial_fit(X, y)\n"
          ],
          "name": "stderr"
        }
      ]
    },
    {
      "cell_type": "code",
      "metadata": {
        "id": "iV8xNd0aM677",
        "colab_type": "code",
        "outputId": "71875d33-1306-46b8-9b2a-fe582f6fb057",
        "colab": {
          "base_uri": "https://localhost:8080/",
          "height": 141
        }
      },
      "source": [
        "#Normalized Data\n",
        "print(TestX)"
      ],
      "execution_count": 0,
      "outputs": [
        {
          "output_type": "stream",
          "text": [
            "[[1.         1.         0.4527232  ... 0.         1.         0.4       ]\n",
            " [1.         0.         0.61756561 ... 0.1        0.         0.6       ]\n",
            " [0.5        1.         0.8153765  ... 0.         1.         0.4       ]\n",
            " ...\n",
            " [1.         1.         0.50547277 ... 0.         1.         0.4       ]\n",
            " [1.         1.         0.35381775 ... 0.         1.         0.4       ]\n",
            " [1.         1.         0.35381775 ... 0.2        0.         0.        ]]\n"
          ],
          "name": "stdout"
        }
      ]
    },
    {
      "cell_type": "markdown",
      "metadata": {
        "id": "xpKUD8ntM67_",
        "colab_type": "text"
      },
      "source": [
        "# Model Creation"
      ]
    },
    {
      "cell_type": "code",
      "metadata": {
        "id": "LuTaQsOVq0hz",
        "colab_type": "code",
        "outputId": "722666e1-de59-42ca-faac-9b36075f1410",
        "colab": {
          "base_uri": "https://localhost:8080/",
          "height": 124
        }
      },
      "source": [
        "#Model with default parameters \n",
        "model = XGBClassifier()\n",
        "model.fit(rescaledX, y)"
      ],
      "execution_count": 0,
      "outputs": [
        {
          "output_type": "execute_result",
          "data": {
            "text/plain": [
              "XGBClassifier(base_score=0.5, booster='gbtree', colsample_bylevel=1,\n",
              "       colsample_bytree=1, gamma=0, learning_rate=0.1, max_delta_step=0,\n",
              "       max_depth=3, min_child_weight=1, missing=None, n_estimators=100,\n",
              "       n_jobs=1, nthread=None, objective='binary:logistic', random_state=0,\n",
              "       reg_alpha=0, reg_lambda=1, scale_pos_weight=1, seed=None,\n",
              "       silent=True, subsample=1)"
            ]
          },
          "metadata": {
            "tags": []
          },
          "execution_count": 44
        }
      ]
    },
    {
      "cell_type": "code",
      "metadata": {
        "id": "1nfsvUDYrNp5",
        "colab_type": "code",
        "colab": {}
      },
      "source": [
        "y_predXGB = model.predict(TestX)\n",
        "#Gave 78% accuracy on final test data"
      ],
      "execution_count": 0,
      "outputs": []
    },
    {
      "cell_type": "code",
      "metadata": {
        "id": "BpsUguLnsPu8",
        "colab_type": "code",
        "outputId": "6c37f3c6-a158-49fa-ed70-5d58a5c46a89",
        "colab": {
          "base_uri": "https://localhost:8080/",
          "height": 400
        }
      },
      "source": [
        "print(model.feature_importances_)\n",
        "# plot_importance(model)\n",
        "# pyplot.show()\n",
        "(pd.Series(model.feature_importances_, index=X.columns)\n",
        "   .nlargest(8)\n",
        "   .plot(kind='barh'))\n"
      ],
      "execution_count": 0,
      "outputs": [
        {
          "output_type": "stream",
          "text": [
            "[0.07590759 0.06435644 0.28547856 0.05610561 0.00660066 0.33168316\n",
            " 0.03630363 0.0660066  0.         0.07755776]\n"
          ],
          "name": "stdout"
        },
        {
          "output_type": "execute_result",
          "data": {
            "text/plain": [
              "<matplotlib.axes._subplots.AxesSubplot at 0x7f231f76ef98>"
            ]
          },
          "metadata": {
            "tags": []
          },
          "execution_count": 65
        },
        {
          "output_type": "display_data",
          "data": {
            "image/png": "[encoded data removed]",
            "text/plain": [
              "<Figure size 576x396 with 1 Axes>"
            ]
          },
          "metadata": {
            "tags": []
          }
        }
      ]
    },
    {
      "cell_type": "code",
      "metadata": {
        "id": "TXrWi9bjynsm",
        "colab_type": "code",
        "outputId": "b4dffcfd-52a3-4b59-d10c-4487a4ca5e92",
        "colab": {
          "base_uri": "https://localhost:8080/",
          "height": 1741
        }
      },
      "source": [
        "from sklearn.model_selection import GridSearchCV\n",
        "from sklearn.model_selection import StratifiedKFold\n",
        "learning_rate = [0.0001, 0.001, 0.01, 0.1, 0.2, 0.3]\n",
        "n_estimators = [50, 100, 150, 200]\n",
        "max_depth = [2, 4, 6, 8]\n",
        "param_grid = dict(learning_rate=learning_rate, max_depth=max_depth, n_estimators=n_estimators)\n",
        "kfold = StratifiedKFold(n_splits=10, shuffle=True, random_state=7)\n",
        "grid_search = GridSearchCV(model, param_grid, scoring=\"neg_log_loss\", n_jobs=-1, cv=kfold)\n",
        "grid_result = grid_search.fit(rescaledX, y)\n",
        "# summarize results\n",
        "print(\"Best: %f using %s\" % (grid_result.best_score_, grid_result.best_params_))\n",
        "means = grid_result.cv_results_['mean_test_score']\n",
        "stds = grid_result.cv_results_['std_test_score']\n",
        "params = grid_result.cv_results_['params']\n",
        "for mean, stdev, param in zip(means, stds, params):\n",
        "\tprint(\"%f (%f) with: %r\" % (mean, stdev, param))\n"
      ],
      "execution_count": 0,
      "outputs": [
        {
          "output_type": "stream",
          "text": [
            "Best: -0.394785 using {'learning_rate': 0.2, 'max_depth': 2, 'n_estimators': 100}\n",
            "-0.691074 (0.000146) with: {'learning_rate': 0.0001, 'max_depth': 2, 'n_estimators': 50}\n",
            "-0.689022 (0.000290) with: {'learning_rate': 0.0001, 'max_depth': 2, 'n_estimators': 100}\n",
            "-0.686989 (0.000434) with: {'learning_rate': 0.0001, 'max_depth': 2, 'n_estimators': 150}\n",
            "-0.684975 (0.000574) with: {'learning_rate': 0.0001, 'max_depth': 2, 'n_estimators': 200}\n",
            "-0.690703 (0.000193) with: {'learning_rate': 0.0001, 'max_depth': 4, 'n_estimators': 50}\n",
            "-0.688282 (0.000384) with: {'learning_rate': 0.0001, 'max_depth': 4, 'n_estimators': 100}\n",
            "-0.685884 (0.000571) with: {'learning_rate': 0.0001, 'max_depth': 4, 'n_estimators': 150}\n",
            "-0.683509 (0.000757) with: {'learning_rate': 0.0001, 'max_depth': 4, 'n_estimators': 200}\n",
            "-0.690623 (0.000225) with: {'learning_rate': 0.0001, 'max_depth': 6, 'n_estimators': 50}\n",
            "-0.688120 (0.000446) with: {'learning_rate': 0.0001, 'max_depth': 6, 'n_estimators': 100}\n",
            "-0.685647 (0.000661) with: {'learning_rate': 0.0001, 'max_depth': 6, 'n_estimators': 150}\n",
            "-0.683202 (0.000874) with: {'learning_rate': 0.0001, 'max_depth': 6, 'n_estimators': 200}\n",
            "-0.690577 (0.000222) with: {'learning_rate': 0.0001, 'max_depth': 8, 'n_estimators': 50}\n",
            "-0.688031 (0.000440) with: {'learning_rate': 0.0001, 'max_depth': 8, 'n_estimators': 100}\n",
            "-0.685504 (0.000658) with: {'learning_rate': 0.0001, 'max_depth': 8, 'n_estimators': 150}\n",
            "-0.683001 (0.000874) with: {'learning_rate': 0.0001, 'max_depth': 8, 'n_estimators': 200}\n",
            "-0.673266 (0.001435) with: {'learning_rate': 0.001, 'max_depth': 2, 'n_estimators': 50}\n",
            "-0.655249 (0.002825) with: {'learning_rate': 0.001, 'max_depth': 2, 'n_estimators': 100}\n",
            "-0.638869 (0.004112) with: {'learning_rate': 0.001, 'max_depth': 2, 'n_estimators': 150}\n",
            "-0.623871 (0.005283) with: {'learning_rate': 0.001, 'max_depth': 2, 'n_estimators': 200}\n",
            "-0.669737 (0.001857) with: {'learning_rate': 0.001, 'max_depth': 4, 'n_estimators': 50}\n",
            "-0.648462 (0.003627) with: {'learning_rate': 0.001, 'max_depth': 4, 'n_estimators': 100}\n",
            "-0.629118 (0.005292) with: {'learning_rate': 0.001, 'max_depth': 4, 'n_estimators': 150}\n",
            "-0.611497 (0.006869) with: {'learning_rate': 0.001, 'max_depth': 4, 'n_estimators': 200}\n",
            "-0.669012 (0.002126) with: {'learning_rate': 0.001, 'max_depth': 6, 'n_estimators': 50}\n",
            "-0.647231 (0.004120) with: {'learning_rate': 0.001, 'max_depth': 6, 'n_estimators': 100}\n",
            "-0.627555 (0.005821) with: {'learning_rate': 0.001, 'max_depth': 6, 'n_estimators': 150}\n",
            "-0.609643 (0.007505) with: {'learning_rate': 0.001, 'max_depth': 6, 'n_estimators': 200}\n",
            "-0.668462 (0.002128) with: {'learning_rate': 0.001, 'max_depth': 8, 'n_estimators': 50}\n",
            "-0.646031 (0.004015) with: {'learning_rate': 0.001, 'max_depth': 8, 'n_estimators': 100}\n",
            "-0.625646 (0.005689) with: {'learning_rate': 0.001, 'max_depth': 8, 'n_estimators': 150}\n",
            "-0.607238 (0.007196) with: {'learning_rate': 0.001, 'max_depth': 8, 'n_estimators': 200}\n",
            "-0.555340 (0.010856) with: {'learning_rate': 0.01, 'max_depth': 2, 'n_estimators': 50}\n",
            "-0.493582 (0.018224) with: {'learning_rate': 0.01, 'max_depth': 2, 'n_estimators': 100}\n",
            "-0.463157 (0.024587) with: {'learning_rate': 0.01, 'max_depth': 2, 'n_estimators': 150}\n",
            "-0.446588 (0.028369) with: {'learning_rate': 0.01, 'max_depth': 2, 'n_estimators': 200}\n",
            "-0.533482 (0.014157) with: {'learning_rate': 0.01, 'max_depth': 4, 'n_estimators': 50}\n",
            "-0.466202 (0.022123) with: {'learning_rate': 0.01, 'max_depth': 4, 'n_estimators': 100}\n",
            "-0.435838 (0.027185) with: {'learning_rate': 0.01, 'max_depth': 4, 'n_estimators': 150}\n",
            "-0.421025 (0.030216) with: {'learning_rate': 0.01, 'max_depth': 4, 'n_estimators': 200}\n",
            "-0.530136 (0.015995) with: {'learning_rate': 0.01, 'max_depth': 6, 'n_estimators': 50}\n",
            "-0.462188 (0.023967) with: {'learning_rate': 0.01, 'max_depth': 6, 'n_estimators': 100}\n",
            "-0.432650 (0.029589) with: {'learning_rate': 0.01, 'max_depth': 6, 'n_estimators': 150}\n",
            "-0.418246 (0.032161) with: {'learning_rate': 0.01, 'max_depth': 6, 'n_estimators': 200}\n",
            "-0.527014 (0.014454) with: {'learning_rate': 0.01, 'max_depth': 8, 'n_estimators': 50}\n",
            "-0.460172 (0.021144) with: {'learning_rate': 0.01, 'max_depth': 8, 'n_estimators': 100}\n",
            "-0.429163 (0.026581) with: {'learning_rate': 0.01, 'max_depth': 8, 'n_estimators': 150}\n",
            "-0.414032 (0.028855) with: {'learning_rate': 0.01, 'max_depth': 8, 'n_estimators': 200}\n",
            "-0.406895 (0.039999) with: {'learning_rate': 0.1, 'max_depth': 2, 'n_estimators': 50}\n",
            "-0.402783 (0.040291) with: {'learning_rate': 0.1, 'max_depth': 2, 'n_estimators': 100}\n",
            "-0.398156 (0.041651) with: {'learning_rate': 0.1, 'max_depth': 2, 'n_estimators': 150}\n",
            "-0.395716 (0.043182) with: {'learning_rate': 0.1, 'max_depth': 2, 'n_estimators': 200}\n",
            "-0.409675 (0.033693) with: {'learning_rate': 0.1, 'max_depth': 4, 'n_estimators': 50}\n",
            "-0.410191 (0.032057) with: {'learning_rate': 0.1, 'max_depth': 4, 'n_estimators': 100}\n",
            "-0.414311 (0.031791) with: {'learning_rate': 0.1, 'max_depth': 4, 'n_estimators': 150}\n",
            "-0.419705 (0.032824) with: {'learning_rate': 0.1, 'max_depth': 4, 'n_estimators': 200}\n",
            "-0.412309 (0.034137) with: {'learning_rate': 0.1, 'max_depth': 6, 'n_estimators': 50}\n",
            "-0.418795 (0.035718) with: {'learning_rate': 0.1, 'max_depth': 6, 'n_estimators': 100}\n",
            "-0.434862 (0.038319) with: {'learning_rate': 0.1, 'max_depth': 6, 'n_estimators': 150}\n",
            "-0.450442 (0.039441) with: {'learning_rate': 0.1, 'max_depth': 6, 'n_estimators': 200}\n",
            "-0.414990 (0.029601) with: {'learning_rate': 0.1, 'max_depth': 8, 'n_estimators': 50}\n",
            "-0.437937 (0.038073) with: {'learning_rate': 0.1, 'max_depth': 8, 'n_estimators': 100}\n",
            "-0.464839 (0.044698) with: {'learning_rate': 0.1, 'max_depth': 8, 'n_estimators': 150}\n",
            "-0.484132 (0.048725) with: {'learning_rate': 0.1, 'max_depth': 8, 'n_estimators': 200}\n",
            "-0.399631 (0.043124) with: {'learning_rate': 0.2, 'max_depth': 2, 'n_estimators': 50}\n",
            "-0.394785 (0.042220) with: {'learning_rate': 0.2, 'max_depth': 2, 'n_estimators': 100}\n",
            "-0.396960 (0.039835) with: {'learning_rate': 0.2, 'max_depth': 2, 'n_estimators': 150}\n",
            "-0.398422 (0.037767) with: {'learning_rate': 0.2, 'max_depth': 2, 'n_estimators': 200}\n",
            "-0.404672 (0.034923) with: {'learning_rate': 0.2, 'max_depth': 4, 'n_estimators': 50}\n",
            "-0.420898 (0.040505) with: {'learning_rate': 0.2, 'max_depth': 4, 'n_estimators': 100}\n",
            "-0.438470 (0.041427) with: {'learning_rate': 0.2, 'max_depth': 4, 'n_estimators': 150}\n",
            "-0.451085 (0.045383) with: {'learning_rate': 0.2, 'max_depth': 4, 'n_estimators': 200}\n",
            "-0.431841 (0.038603) with: {'learning_rate': 0.2, 'max_depth': 6, 'n_estimators': 50}\n",
            "-0.459462 (0.039703) with: {'learning_rate': 0.2, 'max_depth': 6, 'n_estimators': 100}\n",
            "-0.493130 (0.051949) with: {'learning_rate': 0.2, 'max_depth': 6, 'n_estimators': 150}\n",
            "-0.522432 (0.059956) with: {'learning_rate': 0.2, 'max_depth': 6, 'n_estimators': 200}\n",
            "-0.443352 (0.046570) with: {'learning_rate': 0.2, 'max_depth': 8, 'n_estimators': 50}\n",
            "-0.488662 (0.055599) with: {'learning_rate': 0.2, 'max_depth': 8, 'n_estimators': 100}\n",
            "-0.526119 (0.060696) with: {'learning_rate': 0.2, 'max_depth': 8, 'n_estimators': 150}\n",
            "-0.555666 (0.068377) with: {'learning_rate': 0.2, 'max_depth': 8, 'n_estimators': 200}\n",
            "-0.398052 (0.041899) with: {'learning_rate': 0.3, 'max_depth': 2, 'n_estimators': 50}\n",
            "-0.397963 (0.041610) with: {'learning_rate': 0.3, 'max_depth': 2, 'n_estimators': 100}\n",
            "-0.401953 (0.037860) with: {'learning_rate': 0.3, 'max_depth': 2, 'n_estimators': 150}\n",
            "-0.404843 (0.035811) with: {'learning_rate': 0.3, 'max_depth': 2, 'n_estimators': 200}\n",
            "-0.411479 (0.030620) with: {'learning_rate': 0.3, 'max_depth': 4, 'n_estimators': 50}\n",
            "-0.438309 (0.034928) with: {'learning_rate': 0.3, 'max_depth': 4, 'n_estimators': 100}\n",
            "-0.468007 (0.039737) with: {'learning_rate': 0.3, 'max_depth': 4, 'n_estimators': 150}\n",
            "-0.483816 (0.045854) with: {'learning_rate': 0.3, 'max_depth': 4, 'n_estimators': 200}\n",
            "-0.441298 (0.041951) with: {'learning_rate': 0.3, 'max_depth': 6, 'n_estimators': 50}\n",
            "-0.491621 (0.052126) with: {'learning_rate': 0.3, 'max_depth': 6, 'n_estimators': 100}\n",
            "-0.541289 (0.064208) with: {'learning_rate': 0.3, 'max_depth': 6, 'n_estimators': 150}\n",
            "-0.575297 (0.074972) with: {'learning_rate': 0.3, 'max_depth': 6, 'n_estimators': 200}\n",
            "-0.475746 (0.046912) with: {'learning_rate': 0.3, 'max_depth': 8, 'n_estimators': 50}\n",
            "-0.541458 (0.062754) with: {'learning_rate': 0.3, 'max_depth': 8, 'n_estimators': 100}\n",
            "-0.583098 (0.074532) with: {'learning_rate': 0.3, 'max_depth': 8, 'n_estimators': 150}\n",
            "-0.613666 (0.084123) with: {'learning_rate': 0.3, 'max_depth': 8, 'n_estimators': 200}\n"
          ],
          "name": "stdout"
        }
      ]
    },
    {
      "cell_type": "markdown",
      "metadata": {
        "id": "SKzV2ibs043y",
        "colab_type": "text"
      },
      "source": [
        "The preformance to 80% with changing parameters "
      ]
    },
    {
      "cell_type": "code",
      "metadata": {
        "id": "th7sopW6zyvF",
        "colab_type": "code",
        "colab": {}
      },
      "source": [
        "model = XGBClassifier(learning_rate= 0.2, max_depth = 2, n_estimators = 100)\n",
        "model.fit(rescaledX, y)\n",
        "y_predXGBGridSearched = model.predict(TestX)\n"
      ],
      "execution_count": 0,
      "outputs": []
    },
    {
      "cell_type": "code",
      "metadata": {
        "id": "tVCxu2vbM68C",
        "colab_type": "code",
        "colab": {}
      },
      "source": [
        "#Decision tree model creation\n",
        "destree = tree.DecisionTreeClassifier()\n",
        "destree.fit(rescaledX, y)\n",
        "ydecpredTree = destree.predict(TestX)"
      ],
      "execution_count": 0,
      "outputs": []
    },
    {
      "cell_type": "code",
      "metadata": {
        "id": "q17yo_CKM68F",
        "colab_type": "code",
        "colab": {}
      },
      "source": [
        "GBC = GradientBoostingClassifier(n_estimators=50)\n",
        "GBC.fit(rescaledX, y)\n",
        "ydecpredTree = GBC.predict(TestX)"
      ],
      "execution_count": 0,
      "outputs": []
    },
    {
      "cell_type": "code",
      "metadata": {
        "id": "pyIWgW0FM68I",
        "colab_type": "code",
        "colab": {}
      },
      "source": [
        "random_forest = RandomForestClassifier(n_estimators=100)\n",
        "\n",
        "random_forest.fit(rescaledX, y)\n",
        "\n",
        "Y_predRF = random_forest.predict(TestX)"
      ],
      "execution_count": 0,
      "outputs": []
    },
    {
      "cell_type": "code",
      "metadata": {
        "id": "FCnzSFM8M68L",
        "colab_type": "code",
        "colab": {}
      },
      "source": [
        "submission = pd.DataFrame({\n",
        "        \"PassengerId\": PassengerID,\n",
        "        \"Survived\": ydecpredTree\n",
        "    })\n",
        "from google.colab import files\n",
        "submission.to_csv('titanic.csv', index=False)\n",
        "#best performance so far is got with GradientBoostingClassifier 81.33 % with top 6% on leaderboard\n"
      ],
      "execution_count": 0,
      "outputs": []
    }
  ]
}